{
 "cells": [
  {
   "cell_type": "markdown",
   "metadata": {},
   "source": [
    "# 3dRS Jupyter Notebook embed integration\n",
    "\n",
    "Below you can find a couple of examples of the integration of a [3dRS](https://mmb.irbbarcelona.org/3dRS/) embed code in a Jupyter Notebook:"
   ]
  },
  {
   "cell_type": "markdown",
   "metadata": {},
   "source": [
    "## Full embed code integration\n",
    "\n",
    "Use the `IPython.display.HTML` object to copy and paste the code provided by [3dRS](https://mmb.irbbarcelona.org/3dRS/) application website:"
   ]
  },
  {
   "cell_type": "code",
   "execution_count": null,
   "metadata": {},
   "outputs": [],
   "source": [
    "from IPython.display import HTML\n",
    "HTML('<iframe width=\"500\" height=\"500\" src=\"https://mmb.irbbarcelona.org/3dRS/embed/60c1ff158a6696.79962296\" title=\"3dRS\" frameborder=\"0\" allowfullscreen></iframe>')"
   ]
  },
  {
   "cell_type": "markdown",
   "metadata": {},
   "source": [
    "## IFrame integration\n",
    "\n",
    "Use the `IPython.display.IFrame` object to paste the embed URL provided by [3dRS](https://mmb.irbbarcelona.org/3dRS/) application website:"
   ]
  },
  {
   "cell_type": "code",
   "execution_count": null,
   "metadata": {},
   "outputs": [],
   "source": [
    "from IPython.display import IFrame\n",
    "IFrame('https://mmb.irbbarcelona.org/3dRS/embed/60c1ff158a6696.79962296', width=500, height=500)"
   ]
  }
 ],
 "metadata": {
  "kernelspec": {
   "display_name": "Python 3",
   "language": "python",
   "name": "python3"
  },
  "language_info": {
   "codemirror_mode": {
    "name": "ipython",
    "version": 3
   },
   "file_extension": ".py",
   "mimetype": "text/x-python",
   "name": "python",
   "nbconvert_exporter": "python",
   "pygments_lexer": "ipython3",
   "version": "3.7.6"
  }
 },
 "nbformat": 4,
 "nbformat_minor": 4
}
